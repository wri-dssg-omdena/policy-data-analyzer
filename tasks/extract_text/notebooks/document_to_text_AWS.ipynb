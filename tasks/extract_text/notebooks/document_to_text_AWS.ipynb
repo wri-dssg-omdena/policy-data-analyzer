{
 "cells": [
  {
   "cell_type": "code",
   "execution_count": 1,
   "metadata": {
    "colab": {
     "base_uri": "https://localhost:8080/",
     "height": 368
    },
    "id": "DGl4uKSenvb5",
    "outputId": "82cc603b-ee01-431d-d065-22e3eb168cb5"
   },
   "outputs": [],
   "source": [
    "#import libraries\n",
    "import boto3\n",
    "import codecs\n",
    "import csv\n",
    "import json\n",
    "import time"
   ]
  },
  {
   "cell_type": "code",
   "execution_count": 2,
   "metadata": {},
   "outputs": [],
   "source": [
    "# Connection to AWS\n",
    "folder = '/home/propietari/Documents/claus/' # TODO: change to your local path\n",
    "# file_name = 'AWS_S3_keys_JordiPlanas_Made_in_game.json' # TODO: Change to your filename\n",
    "# folder = 'C:/Users/jordi/Documents/claus/' # TODO: change to your local path\n",
    "file_name = 'AWS_S3_keys_wri.json' # TODO: Change to your filename\n",
    "file = folder + file_name\n",
    "\n",
    "with open(file, 'r') as dict:\n",
    "    credentials = json.load(dict)\n",
    "                                      \n",
    "KEY = list(credentials)[0]\n",
    "SECRET = list(credentials.values())[0]\n",
    "# s3BucketName = \"wri-testing\"\n",
    "s3BucketName = \"wri-nlp-policy\"\n",
    "# region = 'eu-central-1'\n",
    "region = \"us-east-1\"\n",
    "\n",
    "s3 = boto3.resource(\n",
    "    service_name = 's3',\n",
    "    region_name = region,\n",
    "    aws_access_key_id = KEY,\n",
    "    aws_secret_access_key = SECRET\n",
    ")"
   ]
  },
  {
   "cell_type": "markdown",
   "metadata": {},
   "source": [
    "##### Next cell is to be run only if there is the need to correct an error concerning the file extension of some documents that have wrongly assigned as txt when they were pdf"
   ]
  },
  {
   "cell_type": "code",
   "execution_count": null,
   "metadata": {},
   "outputs": [],
   "source": [
    "# prefix = \"english_documents/raw_pdf/\"\n",
    "# i = 0\n",
    "# for object in s3.Bucket(s3BucketName).objects.all().filter(Prefix=prefix):\n",
    "#     srcKey = object.key\n",
    "#     if \".txt\" in srcKey:\n",
    "#         print(i)\n",
    "#         newKey = srcKey.replace(\".txt\", \".pdf\")\n",
    "#         copySource = s3BucketName + '/' + srcKey         \n",
    "#         s3.Object(s3BucketName, newKey).copy_from(CopySource=copySource)\n",
    "#         s3.Object(s3BucketName, srcKey).delete()\n",
    "#     i += 1"
   ]
  },
  {
   "cell_type": "code",
   "execution_count": 3,
   "metadata": {},
   "outputs": [],
   "source": [
    "def startJob(s3BucketName, objectName):\n",
    "    response = None\n",
    "    client = boto3.client('textract',\n",
    "#                           service_name = 's3',\n",
    "                          region_name = region,\n",
    "                          aws_access_key_id = KEY,\n",
    "                          aws_secret_access_key = SECRET)\n",
    "    response = client.start_document_text_detection(DocumentLocation={\n",
    "        'S3Object': {'Bucket': s3BucketName,\n",
    "                     'Name': objectName\n",
    "                    }\n",
    "        })\n",
    "    return response[\"JobId\"]\n",
    "def isJobComplete(jobId):\n",
    " # For production use cases, use SNS based notification \n",
    " # Details at: https://docs.aws.amazon.com/textract/latest/dg/api-async.html\n",
    "    time.sleep(5)\n",
    "    client = boto3.client('textract',\n",
    "#                           service_name = 's3',\n",
    "                          region_name = region,\n",
    "                          aws_access_key_id = KEY,\n",
    "                          aws_secret_access_key = SECRET)\n",
    "    response = client.get_document_text_detection(JobId=jobId)\n",
    "    status = response[\"JobStatus\"]\n",
    "#     print(\"Job status: {}\".format(status))\n",
    "    while(status == \"IN_PROGRESS\"):\n",
    "        time.sleep(5)\n",
    "        response = client.get_document_text_detection(JobId=jobId)\n",
    "        status = response[\"JobStatus\"]\n",
    "#         print(\"Job status: {}\".format(status))\n",
    "    return status\n",
    "def getJobResults(jobId):\n",
    "    pages = []\n",
    "    client = boto3.client('textract',\n",
    "#                           service_name = 's3',\n",
    "                          region_name = region,\n",
    "                          aws_access_key_id = KEY,\n",
    "                          aws_secret_access_key = SECRET)\n",
    "    response = client.get_document_text_detection(JobId=jobId)\n",
    "    \n",
    "    pages.append(response)\n",
    "#     print(\"Resultset page recieved: {}\".format(len(pages)))\n",
    "    nextToken = None\n",
    "    if('NextToken' in response):\n",
    "        nextToken = response['NextToken']\n",
    "        while(nextToken):\n",
    "            response = client.get_document_text_detection(JobId=jobId, NextToken=nextToken)\n",
    "            pages.append(response)\n",
    "#             print(\"Resultset page recieved: {}\".format(len(pages)))\n",
    "            nextToken = None\n",
    "            if('NextToken' in response):\n",
    "                nextToken = response['NextToken']\n",
    "    return pages\n",
    "\n",
    "def save_txt_file(file, file_name):\n",
    "    f = open(file_name, \"w\")\n",
    "    f.write(file)\n",
    "    f.close()"
   ]
  },
  {
   "cell_type": "code",
   "execution_count": 4,
   "metadata": {},
   "outputs": [],
   "source": [
    "def AWS_pdf_to_text(key, s3BucketName):\n",
    "    # Document\n",
    "    documentName = key\n",
    "    jobId = startJob(s3BucketName, documentName)\n",
    "#     print(\"Started job with id: {}\".format(jobId))\n",
    "    if(isJobComplete(jobId)):\n",
    "        response = getJobResults(jobId)\n",
    "    #print(response)\n",
    "    # Print detected text\n",
    "    policy = \"\"\n",
    "    for resultPage in response:\n",
    "#         print(resultPage)\n",
    "        try:\n",
    "            for item in resultPage[\"Blocks\"]:\n",
    "                if item[\"BlockType\"] == \"LINE\":\n",
    "                    policy = policy + item[\"Text\"] + \"\\n\"\n",
    "#                     print ('\\033[94m' + item[\"Text\"] + '\\033[0m')\n",
    "        except:\n",
    "            f = open(\"../output/log_file.txt\", 'a')\n",
    "            f.write(f\"The file {key} could not be converted\\n\")\n",
    "            f.close()\n",
    "            \n",
    "            print(f\"The file {key} could not be converted\")\n",
    "    return policy"
   ]
  },
  {
   "cell_type": "markdown",
   "metadata": {},
   "source": [
    "##### To get the list of documents that haven't been transformed yet"
   ]
  },
  {
   "cell_type": "code",
   "execution_count": 24,
   "metadata": {},
   "outputs": [
    {
     "name": "stdout",
     "output_type": "stream",
     "text": [
      "There are 1040 elements in the database out of which 1040 are unique\n",
      "There are 394 objects from the S3 bucket in the database. \n",
      " There are 646 files in the database which haven't been transformed\n",
      " The omputation has taken 8.9110 seconds\n"
     ]
    }
   ],
   "source": [
    "i = 0\n",
    "\n",
    "file_key = \"metadata/India_metadata.csv\"\n",
    "obj_key_dict = {}\n",
    "obj_key_dict_pdf = {}\n",
    "\n",
    "obj = s3.Object(bucket_name = s3BucketName, key = file_key)\n",
    "for row in csv.reader(codecs.getreader(\"utf-8\")(obj.get()['Body'])):\n",
    "#         print(row[3])\n",
    "    obj_key_dict[\"english_documents/text_files/\" + row[3][:-4]] = 0\n",
    "    obj_key_dict_pdf[\"english_documents/raw_pdf/\" + row[3][:-4]] = 0\n",
    "    i += 1\n",
    "print(f\"There are {i} elements in the database out of which {len(obj_key_dict)} are unique\")\n",
    "\n",
    "j = 0\n",
    "k = 0\n",
    "Ti = time.perf_counter()\n",
    "in_dict = {}\n",
    "for obj in s3.Bucket(s3BucketName).objects.all().filter(Prefix='english_documents/text_files/'):\n",
    "#     print(obj.key[:-4])\n",
    "    if obj.key[:-4] in  obj_key_dict:\n",
    "        in_dict[obj.key[:-4]] = 0\n",
    "#         print(obj.key)\n",
    "        j += 1\n",
    "out_dict = {}\n",
    "for item in obj_key_dict:\n",
    "    if item not in in_dict:\n",
    "        item = item.replace(\"text_files\", \"raw_pdf\")\n",
    "        out_dict[item] = 0\n",
    "        k += 1\n",
    "        \n",
    "Tf = time.perf_counter()\n",
    "print(f\"There are {j} objects from the S3 bucket in the database. \\n There are {k} files in the database which haven't been transformed\\n The omputation has taken {Tf - Ti:0.4f} seconds\")"
   ]
  },
  {
   "cell_type": "code",
   "execution_count": 25,
   "metadata": {},
   "outputs": [
    {
     "name": "stdout",
     "output_type": "stream",
     "text": [
      "There are 400 documents to be transformed\n"
     ]
    }
   ],
   "source": [
    "keyword = \"0bc17448527c7798e84937eb897bdaa82c3c4a3c.pdf\"\n",
    "prefix = \"english_documents/raw_pdf/\"\n",
    "\n",
    "i = 0\n",
    "\n",
    "for obj in s3.Bucket(s3BucketName).objects.all().filter(Prefix = prefix):#.:\n",
    "    if \".pdf\" in obj.key:# and i > 48: #lower_limit < i < upper_limit:\n",
    "        if obj.key[:-4] in obj_key_dict_pdf:# out_dict:\n",
    "#             print(i, \"**\", obj.key)\n",
    "            i += 1\n",
    "#             key = obj.key.replace(\"raw_pdf\", \"text_files\").replace(\".pdf\", \".txt\")\n",
    "#             policy = AWS_pdf_to_text(obj.key, s3BucketName)\n",
    "#             if policy != \"\":\n",
    "#                 s3.Object(s3BucketName, key).put(Body = policy)\n",
    "    #         save_txt_file(policy, \"/home/propietari/Documents/S3/\" + obj.key[:-4] + \".txt\")\n",
    "print(f\"There are {i} documents to be transformed\")  "
   ]
  },
  {
   "cell_type": "code",
   "execution_count": 21,
   "metadata": {
    "scrolled": false
   },
   "outputs": [
    {
     "data": {
      "text/plain": [
       "646"
      ]
     },
     "execution_count": 21,
     "metadata": {},
     "output_type": "execute_result"
    }
   ],
   "source": [
    "len(out_dict)"
   ]
  },
  {
   "cell_type": "code",
   "execution_count": null,
   "metadata": {},
   "outputs": [],
   "source": []
  }
 ],
 "metadata": {
  "colab": {
   "collapsed_sections": [],
   "name": "OCR.ipynb",
   "provenance": []
  },
  "kernelspec": {
   "display_name": "Python 3",
   "language": "python",
   "name": "python3"
  },
  "language_info": {
   "codemirror_mode": {
    "name": "ipython",
    "version": 3
   },
   "file_extension": ".py",
   "mimetype": "text/x-python",
   "name": "python",
   "nbconvert_exporter": "python",
   "pygments_lexer": "ipython3",
   "version": "3.9.2"
  },
  "toc": {
   "base_numbering": 1,
   "nav_menu": {},
   "number_sections": true,
   "sideBar": true,
   "skip_h1_title": true,
   "title_cell": "Table of Contents",
   "title_sidebar": "Contents",
   "toc_cell": false,
   "toc_position": {},
   "toc_section_display": true,
   "toc_window_display": false
  }
 },
 "nbformat": 4,
 "nbformat_minor": 1
}
