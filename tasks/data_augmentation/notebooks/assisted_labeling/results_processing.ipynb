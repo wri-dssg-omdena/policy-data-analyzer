{
 "cells": [
  {
   "cell_type": "markdown",
   "id": "front-fraud",
   "metadata": {},
   "source": [
    "# Processing the results of assited labeling\n",
    "\n",
    "The assited labeling notebook yields several csv files one for each query. As the process has been parallelized, we have as many copies as threads we have run. So there is the need for merging the results in one single excel file per policy instrument.\n",
    "\n",
    "TODO: this code is highly inefficient for large amount of data, probably due to the way the file is open and handled. Better alternatives should be worked out."
   ]
  },
  {
   "cell_type": "code",
   "execution_count": 1,
   "id": "unusual-apparatus",
   "metadata": {},
   "outputs": [],
   "source": [
    "import boto3\n",
    "import codecs\n",
    "import copy\n",
    "import csv\n",
    "import json\n",
    "import numpy as np\n",
    "from openpyxl import load_workbook\n",
    "import pandas as pd"
   ]
  },
  {
   "cell_type": "markdown",
   "id": "coordinate-palace",
   "metadata": {},
   "source": [
    "## Functions"
   ]
  },
  {
   "cell_type": "code",
   "execution_count": 14,
   "id": "virgin-advice",
   "metadata": {},
   "outputs": [],
   "source": [
    "def aws_credentials(path, filename):\n",
    "    file = path + filename\n",
    "    with open(file, 'r') as dict:\n",
    "        key_dict = json.load(dict)\n",
    "    for key in key_dict:\n",
    "        KEY = key\n",
    "        SECRET = key_dict[key]\n",
    "    return KEY, SECRET\n",
    "\n",
    "def read_csv_from_s3(s3_object, columns):\n",
    "    pre_labeled =[]\n",
    "    try:\n",
    "        for row in csv.DictReader(codecs.getreader(\"utf-8\")(s3_object.get()['Body'])):\n",
    "            list_row = []\n",
    "            for column in columns:\n",
    "                list_row.append(row[column])\n",
    "            pre_labeled.append(list_row)\n",
    "#             print(list_row[1])\n",
    "    except:\n",
    "        print(f\"Problem with the file {obj.key}\")\n",
    "        pass\n",
    "    return pre_labeled\n",
    "\n",
    "def export_list_as_excel(file, list_to_save, name_of_sheet):\n",
    "    df = pd.DataFrame(list_to_save)\n",
    "    book = load_workbook(file)\n",
    "    writer = pd.ExcelWriter(file, engine='openpyxl', mode = \"a\")\n",
    "    writer.book = book\n",
    "    writer.sheets = {ws.title: ws for ws in book.worksheets}\n",
    "    print(name_of_sheet, \" - \", len(list_to_save))\n",
    "    if name_of_sheet not in writer.sheets:\n",
    "        df.to_excel(writer, sheet_name = name_of_sheet, index=False, header=False)\n",
    "    else:\n",
    "        df.to_excel(writer, sheet_name = name_of_sheet, startrow=writer.sheets[name_of_sheet].max_row, index=False, header=False)\n",
    "    writer.save()\n",
    "    \n",
    "def merge_dicts(old_dict, new_dict):\n",
    "    for key, value in new_dict.items():\n",
    "        if key in old_dict and value[0] < old_dict[key][0]:\n",
    "#             print(\"\\n\\n *** \", value[0], \" *** \", old_dict[key][0], \" ***\\n\\n\")\n",
    "            old_dict[key] = value\n",
    "        elif key not in old_dict:\n",
    "            old_dict[key] = value\n",
    "    return old_dict\n",
    "\n",
    "def dict_to_sorted_list(dictionary):\n",
    "    llista = []\n",
    "    for value in dictionary.values():\n",
    "        llista.append(value)\n",
    "    llista_ordenada = sorted(llista, key=lambda x: x[0])\n",
    "    return llista_ordenada"
   ]
  },
  {
   "cell_type": "markdown",
   "id": "exact-afghanistan",
   "metadata": {},
   "source": [
    "## Connecting to S3"
   ]
  },
  {
   "cell_type": "code",
   "execution_count": 3,
   "id": "formal-combat",
   "metadata": {},
   "outputs": [],
   "source": [
    "# path = \"C:/Users/jordi/Documents/claus/\"\n",
    "path = \"/home/propietari/Documents/claus/\"\n",
    "filename = \"AWS_S3_keys_wri.json\"\n",
    "aws_id, aws_secret = aws_credentials(path, filename)\n",
    "region = 'us-east-1'\n",
    "\n",
    "bucket = 'wri-nlp-policy'\n",
    "\n",
    "s3 = boto3.resource(\n",
    "    service_name = 's3',\n",
    "    region_name = region,\n",
    "    aws_access_key_id = aws_id,\n",
    "    aws_secret_access_key = aws_secret\n",
    ")"
   ]
  },
  {
   "cell_type": "markdown",
   "id": "tamil-floating",
   "metadata": {},
   "source": [
    "## Loading the policy instruments"
   ]
  },
  {
   "cell_type": "code",
   "execution_count": 4,
   "id": "serious-tracker",
   "metadata": {},
   "outputs": [],
   "source": [
    "# Define queries\n",
    "path = \"../../input/\"\n",
    "filename = \"Spanish_queries.xlsx\"\n",
    "file = path + filename\n",
    "df = pd.read_excel(file, engine='openpyxl', sheet_name = \"Hoja1\", usecols = \"A:C\")\n",
    "\n",
    "policy_instrument = {}\n",
    "for index, row in df.iterrows():\n",
    "    if row['Policy instrument'] in policy_instrument:\n",
    "        policy_instrument[row['Policy instrument']] = policy_instrument[row['Policy instrument']] + 1\n",
    "    else:\n",
    "        policy_instrument[row['Policy instrument']] = 1"
   ]
  },
  {
   "cell_type": "code",
   "execution_count": 5,
   "id": "plastic-subject",
   "metadata": {},
   "outputs": [
    {
     "data": {
      "text/plain": [
       "{'Credit': 5,\n",
       " 'Direct_payment': 5,\n",
       " 'Fine': 5,\n",
       " 'Guarantee': 2,\n",
       " 'Supplies': 3,\n",
       " 'Tax_deduction': 5,\n",
       " 'Technical_assistance': 6}"
      ]
     },
     "execution_count": 5,
     "metadata": {},
     "output_type": "execute_result"
    }
   ],
   "source": [
    "policy_instrument"
   ]
  },
  {
   "cell_type": "markdown",
   "id": "encouraging-crown",
   "metadata": {},
   "source": [
    "## Loading csv files"
   ]
  },
  {
   "cell_type": "code",
   "execution_count": null,
   "id": "loved-quality",
   "metadata": {},
   "outputs": [],
   "source": [
    "path = \"../../output/\"\n",
    "filename = \"pre_labeled_Spanish.xlsx\"\n",
    "file = path + filename\n",
    "\n",
    "columns = [\"sentence_id\", \"similarity_score\", \"text\"]\n",
    "for i, obj in enumerate(s3.Bucket(bucket).objects.all().filter(Prefix=\"spanish_documents/assisted_labeling/\")):\n",
    "    if not obj.key.endswith(\"/\"):# and i < 3:\n",
    "        for item in policy_instrument:\n",
    "            if item in obj.key:\n",
    "                export_list_as_excel(file, read_csv_from_s3(obj, columns), item)"
   ]
  },
  {
   "cell_type": "code",
   "execution_count": 7,
   "id": "undefined-obligation",
   "metadata": {},
   "outputs": [],
   "source": [
    "path = \"../../output/\"\n",
    "filename = \"pre_labeled_Spanish_ready_short.xlsx\"\n",
    "file = path + filename\n",
    "\n",
    "\n",
    "Dictionaries = {\"Direct payment\" : {}, \"Fine\" : {}, \"Loan\" : {}, \"Supplies\" : {}, \"Tax benefit\" : {}, \"Technical assistance\" : {}}\n",
    "Dictionaries = {\"Direct payment\" : {}, \"Fine\" : {}, \"Credit\" : {}, \"Supplies\" : {}, \"Tax deduction\" : {}, \"Technical assistance\" : {}}\n",
    "\n",
    "Queries = {\"Direct payment\" : 0, \"Fine\" : 0, \"Loan\" : 0, \"Supplies\" : 0, \"Tax benefit\" : 0, \"Technical assistance\" : 0}\n",
    "Queries = {\"Direct payment\" : 0, \"Fine\" : 0, \"Credit\" : 0, \"Supplies\" : 0, \"Tax deduction\" : 0, \"Technical assistance\" : 0}\n",
    "\n",
    "\n",
    "columns = [\"sentence_id\", \"similarity_score\", \"text\"]\n",
    "for i, obj in enumerate(s3.Bucket(bucket).objects.all().filter(Prefix=\"spanish_documents/assisted_labeling/\")):\n",
    "    if not obj.key.endswith(\"/\"):# and i < 25\n",
    "        item = obj.key.split(\"_\")[3]\n",
    "        query_number = int(obj.key.split(\"_\")[4])\n",
    "        if query_number in Dictionaries[item]:\n",
    "            new_list = read_csv_from_s3(obj, columns)\n",
    "            Dictionaries[item][query_number] = Dictionaries[item][query_number] + new_list\n",
    "        else:\n",
    "            Dictionaries[item][query_number] = []\n",
    "            new_list = read_csv_from_s3(obj, columns)\n",
    "            Dictionaries[item][query_number] = Dictionaries[item][query_number] + new_list"
   ]
  },
  {
   "cell_type": "code",
   "execution_count": 16,
   "id": "acquired-guess",
   "metadata": {
    "scrolled": false
   },
   "outputs": [
    {
     "name": "stdout",
     "output_type": "stream",
     "text": [
      "Direct payment  -  501\n",
      "Fine  -  501\n",
      "Credit  -  501\n",
      "Supplies  -  501\n",
      "Tax deduction  -  501\n",
      "Technical assistance  -  501\n"
     ]
    }
   ],
   "source": [
    "for instrument in Dictionaries:\n",
    "    old_dict = {}\n",
    "    for query in Dictionaries[instrument]:\n",
    "        temp_list = copy.deepcopy(Dictionaries[instrument][query])\n",
    "        sorted_list = sorted(temp_list, key=lambda x: x[1], reverse=True)\n",
    "        new_dict = {}\n",
    "        for i, item in enumerate(sorted_list):\n",
    "            item.insert(0, i)\n",
    "            new_dict[item[1]] = item\n",
    "        old_dict = merge_dicts(old_dict, new_dict)\n",
    "    final_list = dict_to_sorted_list(old_dict)\n",
    "            \n",
    "    export_list_as_excel(file, final_list[0:501], instrument)"
   ]
  },
  {
   "cell_type": "code",
   "execution_count": null,
   "id": "ready-marketing",
   "metadata": {},
   "outputs": [],
   "source": []
  }
 ],
 "metadata": {
  "kernelspec": {
   "display_name": "Python 3",
   "language": "python",
   "name": "python3"
  },
  "language_info": {
   "codemirror_mode": {
    "name": "ipython",
    "version": 3
   },
   "file_extension": ".py",
   "mimetype": "text/x-python",
   "name": "python",
   "nbconvert_exporter": "python",
   "pygments_lexer": "ipython3",
   "version": "3.8.8"
  },
  "toc": {
   "base_numbering": 1,
   "nav_menu": {},
   "number_sections": true,
   "sideBar": true,
   "skip_h1_title": true,
   "title_cell": "Table of Contents",
   "title_sidebar": "Contents",
   "toc_cell": false,
   "toc_position": {
    "height": "calc(100% - 180px)",
    "left": "10px",
    "top": "150px",
    "width": "261.997px"
   },
   "toc_section_display": true,
   "toc_window_display": true
  }
 },
 "nbformat": 4,
 "nbformat_minor": 5
}
