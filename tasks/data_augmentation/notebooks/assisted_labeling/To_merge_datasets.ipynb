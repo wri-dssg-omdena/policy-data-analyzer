{
 "cells": [
  {
   "cell_type": "markdown",
   "id": "7fdd2d14",
   "metadata": {},
   "source": [
    "## To build merged datasets\n",
    "\n",
    "In an initial version, the \"merged\" datasets were built independently from the test split in \"assisted labeling\" and \"hand-picked\" datasets. By doing so, some of the datapoint in the training data set of the \"merged\" datasets, were also in the test sets of \"assisted labeling\" and \"hand-picked\" datasets. This was a confounding factor when different testing datasets were used for evaluation fine-tuning performance.\\\n",
    "Here we seimply make new \"merged\" datasets by merging the splits of \"assisted labeling\" and \"hand-picked\" datasets."
   ]
  },
  {
   "cell_type": "code",
   "execution_count": 5,
   "id": "df72f142",
   "metadata": {},
   "outputs": [],
   "source": [
    "import json\n",
    "import csv\n",
    "from os import listdir\n",
    "from os.path import isfile, join"
   ]
  },
  {
   "cell_type": "code",
   "execution_count": 6,
   "id": "96f57dd8",
   "metadata": {},
   "outputs": [],
   "source": [
    "base_path = \"/home/propietari/Documents/GitHub/policy-data-analyzer/tasks/data_augmentation/output/HSSC/\"\n",
    "output_path = \"testing/\""
   ]
  },
  {
   "cell_type": "code",
   "execution_count": 7,
   "id": "7adf17e6",
   "metadata": {},
   "outputs": [],
   "source": [
    "def csv_to_list(file):\n",
    "    with open(file, 'r') as f:\n",
    "        reader = csv.reader(f)\n",
    "        return [row[0] for row in reader]\n",
    "    \n",
    "def save_list_to_csv(file, lst):\n",
    "    with open(file, 'w') as f:\n",
    "        write = csv.writer(f) \n",
    "        write.writerows(zip(lst)) \n",
    "\n",
    "def merge_list_and_save(file1, file2, output):\n",
    "    lst1 = csv_to_list(file1)\n",
    "    lst2 = csv_to_list(file2)\n",
    "    save_list_to_csv(output, lst1 + lst2)\n",
    "    "
   ]
  },
  {
   "cell_type": "code",
   "execution_count": null,
   "id": "60824f15",
   "metadata": {},
   "outputs": [],
   "source": [
    "file1 = base_path + \"binary_handpicked_english_train_labels.csv\"\n",
    "file2 = base_path + output_path + \"test.csv\"\n",
    "\n",
    "save_list_to_csv(file2, csv_to_list(file1))"
   ]
  },
  {
   "cell_type": "code",
   "execution_count": 21,
   "id": "bd1c7f18",
   "metadata": {},
   "outputs": [
    {
     "name": "stdout",
     "output_type": "stream",
     "text": [
      "\n",
      "binary_assisted_english_test_labels.csv ** binary_handpicked_english_test_labels.csv\n",
      "binary_merged_english_test_labels.csv\n",
      "\n",
      "binary_assisted_english_train_sentences.csv ** binary_handpicked_english_train_sentences.csv\n",
      "binary_merged_english_train_sentences.csv\n",
      "\n",
      "multiclass_assisted_english_test_sentences.csv ** multiclass_handpicked_english_test_sentences.csv\n",
      "multiclass_merged_english_test_sentences.csv\n",
      "\n",
      "multiclass_assisted_spanish_test_labels.csv ** multiclass_handpicked_spanish_test_labels.csv\n",
      "multiclass_merged_spanish_test_labels.csv\n",
      "\n",
      "binary_assisted_spanish_test_labels.csv ** binary_handpicked_spanish_test_labels.csv\n",
      "binary_merged_spanish_test_labels.csv\n",
      "\n",
      "multiclass_assisted_spanish_train_sentences.csv ** multiclass_handpicked_spanish_train_sentences.csv\n",
      "multiclass_merged_spanish_train_sentences.csv\n",
      "\n",
      "binary_assisted_english_test_sentences.csv ** binary_handpicked_english_test_sentences.csv\n",
      "binary_merged_english_test_sentences.csv\n",
      "\n",
      "binary_assisted_spanish_train_labels.csv ** binary_handpicked_spanish_train_labels.csv\n",
      "binary_merged_spanish_train_labels.csv\n",
      "\n",
      "binary_assisted_english_train_labels.csv ** binary_handpicked_english_train_labels.csv\n",
      "binary_merged_english_train_labels.csv\n",
      "\n",
      "binary_assisted_spanish_train_sentences.csv ** binary_handpicked_spanish_train_sentences.csv\n",
      "binary_merged_spanish_train_sentences.csv\n",
      "\n",
      "multiclass_assisted_english_train_sentences.csv ** multiclass_handpicked_english_train_sentences.csv\n",
      "multiclass_merged_english_train_sentences.csv\n",
      "\n",
      "multiclass_assisted_english_test_labels.csv ** multiclass_handpicked_english_test_labels.csv\n",
      "multiclass_merged_english_test_labels.csv\n",
      "\n",
      "multiclass_assisted_english_train_labels.csv ** multiclass_handpicked_english_train_labels.csv\n",
      "multiclass_merged_english_train_labels.csv\n",
      "\n",
      "multiclass_assisted_spanish_train_labels.csv ** multiclass_handpicked_spanish_train_labels.csv\n",
      "multiclass_merged_spanish_train_labels.csv\n",
      "\n",
      "binary_assisted_spanish_test_sentences.csv ** binary_handpicked_spanish_test_sentences.csv\n",
      "binary_merged_spanish_test_sentences.csv\n",
      "\n",
      "multiclass_assisted_spanish_test_sentences.csv ** multiclass_handpicked_spanish_test_sentences.csv\n",
      "multiclass_merged_spanish_test_sentences.csv\n",
      "16\n"
     ]
    }
   ],
   "source": [
    "onlyfiles = [f for f in listdir(base_path) if isfile(join(base_path, f))]\n",
    "\n",
    "k = 0\n",
    "for i, file1 in enumerate(onlyfiles):\n",
    "    tags1 = file1.split(\"_\")\n",
    "    name1 = tags1[0] + tags1[2] + tags1[3] + tags1[4]\n",
    "    dataset1 = tags1[1]\n",
    "    f1 = base_path + file1\n",
    "    for j, file2 in enumerate(onlyfiles):\n",
    "        tags2 = file2.split(\"_\")\n",
    "        name2 = tags2[0] + tags2[2] + tags2[3] + tags2[4] \n",
    "        dataset2 = tags2[1]\n",
    "        f2 = base_path + file2\n",
    "        if tags1[1] == \"assisted\" and tags2[1] == \"handpicked\" and name1 == name2 and dataset1 != dataset2:\n",
    "            output_file_name = tags1[0] + \"_merged_\" + tags1[2] + \"_\" + tags1[3]+ \"_\" + tags1[4]\n",
    "            output_file = base_path + output_path + output_file_name\n",
    "            merge_list_and_save(f1, f2, output_file)\n",
    "            print(f\"\\n{file1} ** {file2}\")\n",
    "            print(output_file_name)\n",
    "            k += 1\n",
    "            \n",
    "print(k)"
   ]
  },
  {
   "cell_type": "code",
   "execution_count": null,
   "id": "95ae3415",
   "metadata": {},
   "outputs": [],
   "source": [
    "file"
   ]
  },
  {
   "cell_type": "code",
   "execution_count": null,
   "id": "a637e3e6",
   "metadata": {},
   "outputs": [],
   "source": []
  }
 ],
 "metadata": {
  "kernelspec": {
   "display_name": "Python 3",
   "language": "python",
   "name": "python3"
  },
  "language_info": {
   "codemirror_mode": {
    "name": "ipython",
    "version": 3
   },
   "file_extension": ".py",
   "mimetype": "text/x-python",
   "name": "python",
   "nbconvert_exporter": "python",
   "pygments_lexer": "ipython3",
   "version": "3.8.8"
  },
  "toc": {
   "base_numbering": 1,
   "nav_menu": {},
   "number_sections": true,
   "sideBar": true,
   "skip_h1_title": true,
   "title_cell": "Table of Contents",
   "title_sidebar": "Contents",
   "toc_cell": false,
   "toc_position": {},
   "toc_section_display": true,
   "toc_window_display": false
  }
 },
 "nbformat": 4,
 "nbformat_minor": 5
}
